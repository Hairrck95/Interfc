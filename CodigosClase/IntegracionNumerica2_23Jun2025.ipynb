{
 "cells": [
  {
   "cell_type": "code",
   "execution_count": 1,
   "id": "0a71bc8a-cba2-4198-bc06-60579834fc6b",
   "metadata": {},
   "outputs": [],
   "source": [
    "import math as mt\n",
    "import numpy as np\n",
    "import matplotlib.pyplot as plt\n",
    "import pandas as pd"
   ]
  },
  {
   "cell_type": "code",
   "execution_count": 2,
   "id": "80ea4503-7d62-49c3-a821-423591e1eb30",
   "metadata": {},
   "outputs": [],
   "source": [
    "def f1(x):\n",
    "    return x**4 - 2*x + 1\n",
    "\n",
    "def I1(x):\n",
    "    return (x**5)/5 - x**2 + x\n",
    "\n",
    "\n",
    "def f2(x):\n",
    "    return np.exp(x**2) + 1/(x**2) + np.log(x)\n",
    "\n",
    "###################################################\n",
    "\n",
    "def f3(x):\n",
    "    return np.sin(x)\n",
    "\n",
    "def I3(x):\n",
    "    return -np.cos(x)\n",
    "\n"
   ]
  },
  {
   "cell_type": "code",
   "execution_count": 3,
   "id": "b6eceebc-5b33-4239-a5aa-0cb7e451f2d3",
   "metadata": {},
   "outputs": [
    {
     "data": {
      "image/png": "[encoded data removed]",
      "text/plain": [
       "<Figure size 640x480 with 1 Axes>"
      ]
     },
     "metadata": {},
     "output_type": "display_data"
    }
   ],
   "source": [
    "X = np.linspace(-10,10,1000)\n",
    "Fx = f1(X)\n",
    "plt.plot(X,Fx)\n",
    "plt.axhline(y = 0.0, xmin = 0.0, color = 'black')\n",
    "plt.axvline(x = 0.0, ymin = 0.0, color = 'black')\n",
    "plt.grid()"
   ]
  },
  {
   "cell_type": "code",
   "execution_count": 4,
   "id": "4b743dad-5794-4fd1-92a3-3cbc725023c0",
   "metadata": {},
   "outputs": [],
   "source": [
    "import scipy as sp\n",
    "# sp.special.roo"
   ]
  },
  {
   "cell_type": "code",
   "execution_count": 5,
   "id": "c2e8caa5-ef2d-4837-8de9-16236be2fbee",
   "metadata": {},
   "outputs": [
    {
     "ename": "ModuleNotFoundError",
     "evalue": "No module named 'Integracion'",
     "output_type": "error",
     "traceback": [
      "\u001b[0;31m---------------------------------------------------------------------------\u001b[0m",
      "\u001b[0;31mModuleNotFoundError\u001b[0m                       Traceback (most recent call last)",
      "Cell \u001b[0;32mIn[5], line 1\u001b[0m\n\u001b[0;32m----> 1\u001b[0m \u001b[38;5;28;01mimport\u001b[39;00m \u001b[38;5;21;01mIntegracion\u001b[39;00m \u001b[38;5;28;01mas\u001b[39;00m \u001b[38;5;21;01mitg\u001b[39;00m\n",
      "\u001b[0;31mModuleNotFoundError\u001b[0m: No module named 'Integracion'"
     ]
    }
   ],
   "source": [
    "import Integracion as itg"
   ]
  },
  {
   "cell_type": "code",
   "execution_count": 9,
   "id": "0722ee80-5010-4388-b3e8-c10a56523f53",
   "metadata": {},
   "outputs": [
    {
     "ename": "NameError",
     "evalue": "name 'itg' is not defined",
     "output_type": "error",
     "traceback": [
      "\u001b[0;31m---------------------------------------------------------------------------\u001b[0m",
      "\u001b[0;31mNameError\u001b[0m                                 Traceback (most recent call last)",
      "Cell \u001b[0;32mIn[9], line 5\u001b[0m\n\u001b[1;32m      2\u001b[0m b \u001b[38;5;241m=\u001b[39m np\u001b[38;5;241m.\u001b[39mpi\n\u001b[1;32m      3\u001b[0m N \u001b[38;5;241m=\u001b[39m \u001b[38;5;241m1000000\u001b[39m\n\u001b[0;32m----> 5\u001b[0m \u001b[38;5;28mprint\u001b[39m(\u001b[38;5;124m\"\u001b[39m\u001b[38;5;124mIntegracion con Regla del Trapecio =\u001b[39m\u001b[38;5;124m\"\u001b[39m,\u001b[43mitg\u001b[49m\u001b[38;5;241m.\u001b[39mIntTrapecio(f1,a,b,N))\n\u001b[1;32m      6\u001b[0m \u001b[38;5;28mprint\u001b[39m(\u001b[38;5;124m\"\u001b[39m\u001b[38;5;124mIntegracion con Regla del Simpson =\u001b[39m\u001b[38;5;124m\"\u001b[39m,itg\u001b[38;5;241m.\u001b[39mIntSimpson(f1,a,b,N))\n",
      "\u001b[0;31mNameError\u001b[0m: name 'itg' is not defined"
     ]
    }
   ],
   "source": [
    "a = 0\n",
    "b = np.pi\n",
    "N = 1000000\n",
    "\n",
    "print(\"Integracion con Regla del Trapecio =\",itg.IntTrapecio(f1,a,b,N))\n",
    "print(\"Integracion con Regla del Simpson =\",itg.IntSimpson(f1,a,b,N))\n",
    "\n"
   ]
  },
  {
   "cell_type": "code",
   "execution_count": 10,
   "id": "e1b2e2fb-2ac8-424c-99fe-970be66be22a",
   "metadata": {},
   "outputs": [
    {
     "name": "stdout",
     "output_type": "stream",
     "text": [
      "Integracion Análitica = 54.47592520955672\n"
     ]
    }
   ],
   "source": [
    "I = float(I1(b)-I1(a))\n",
    "print(\"Integracion Análitica =\",I)"
   ]
  },
  {
   "cell_type": "code",
   "execution_count": 11,
   "id": "8b12de45-becd-468d-8754-2e2a2ecb7be0",
   "metadata": {},
   "outputs": [
    {
     "name": "stdout",
     "output_type": "stream",
     "text": [
      "Integracion con Regla del Trapecio de Scipy = 54.47563578819227\n"
     ]
    }
   ],
   "source": [
    "h = (b-a)/N\n",
    "x = np.arange(a,b,h)\n",
    "# x = np.linspace(a,b,N)\n",
    "y = f1(x)\n",
    "I2 = float(sp.integrate.trapezoid(y,dx=h))\n",
    "print(\"Integracion con Regla del Trapecio de Scipy =\",I2)"
   ]
  },
  {
   "cell_type": "code",
   "execution_count": 12,
   "id": "1516d72a-30db-44db-a2ba-41fae6dae9f1",
   "metadata": {},
   "outputs": [
    {
     "name": "stdout",
     "output_type": "stream",
     "text": [
      "Integracion con Regla del Simpson de Scipy = 54.47563578809029\n"
     ]
    }
   ],
   "source": [
    "I3 = float(sp.integrate.simpson(y,dx=h))\n",
    "print(\"Integracion con Regla del Simpson de Scipy =\",I3)"
   ]
  },
  {
   "cell_type": "code",
   "execution_count": 13,
   "id": "104f45e6-2ec2-4926-a02d-695f396055d8",
   "metadata": {},
   "outputs": [
    {
     "name": "stdout",
     "output_type": "stream",
     "text": [
      "Integracion con cuadratura Gaussiana de Scipy = 54.4759252095567\n",
      "con un error de: 2.1316282072803006e-14\n"
     ]
    },
    {
     "name": "stderr",
     "output_type": "stream",
     "text": [
      "/tmp/ipykernel_10658/3845063710.py:1: DeprecationWarning: `scipy.integrate.quadrature` is deprecated as of SciPy 1.12.0and will be removed in SciPy 1.15.0. Please use`scipy.integrate.quad` instead.\n",
      "  valor, error = sp.integrate.quadrature(f1,a,b)\n"
     ]
    }
   ],
   "source": [
    "valor, error = sp.integrate.quadrature(f1,a,b)\n",
    "print(\"Integracion con cuadratura Gaussiana de Scipy =\",float(valor))\n",
    "print(\"con un error de:\",float(error))"
   ]
  },
  {
   "cell_type": "code",
   "execution_count": 14,
   "id": "14748d89-ac6f-4d2e-9d35-69e1215546b5",
   "metadata": {},
   "outputs": [],
   "source": [
    "#Codigos sobre cuadratura gaussiana"
   ]
  },
  {
   "cell_type": "code",
   "execution_count": 15,
   "id": "525d437f-b359-4bb4-ac1f-b37ba6f88374",
   "metadata": {},
   "outputs": [],
   "source": [
    "a = 0\n",
    "b = np.pi #limites de integral\n",
    "N = 1000000 #f(a+Nh)=f(b)\n",
    "def cuadratura_gauss(N,a,b): #limites de la integral \n",
    "    x,w = sp.special.roots_legendre(N)\n",
    "    return 0.5*(b-a)*x+0.5*(b+a),0.5*(b-a)*w\n",
    "\n",
    "\n",
    "def CuadGauss(N,f,a,b):\n",
    "    S = 0\n",
    "    \n",
    "    x,w = cuadratura_gauss(N,a,b) #nos esta regresando dos listas una para x y otra para los pesos\n",
    "    \n",
    "    for i in range(N):\n",
    "        S = S + w[i]*f(x[i])\n",
    "        \n",
    "    return S\n",
    "\n",
    "# def f1(x):\n",
    "    # return x**4 - 2*x + 1"
   ]
  },
  {
   "cell_type": "code",
   "execution_count": null,
   "id": "0f8cfe89-c43d-4a30-80aa-603619564c6d",
   "metadata": {},
   "outputs": [],
   "source": []
  },
  {
   "cell_type": "code",
   "execution_count": 16,
   "id": "6682863e-a670-469a-bf73-c82921b40d82",
   "metadata": {},
   "outputs": [
    {
     "data": {
      "text/plain": [
       "54.47592520946985"
      ]
     },
     "execution_count": 16,
     "metadata": {},
     "output_type": "execute_result"
    }
   ],
   "source": [
    "a = 0\n",
    "b = np.pi\n",
    "N = 10000\n",
    "# sp.special.roots_legendre(N)\n",
    "# cuadratura_gauss(N,a,b) #este nos regresa los valores de las x y los pesos \n",
    "float(CuadGauss(N,f1,a,b))"
   ]
  },
  {
   "cell_type": "code",
   "execution_count": 6,
   "id": "4c403cd4-d167-4d27-b23d-c8b670cf16a2",
   "metadata": {},
   "outputs": [],
   "source": [
    "def cuadratura_gauss(N,a,b): #limites de la integral \n",
    "    x,w = sp.special.roots_legendre(N)\n",
    "    return 0.5*(b-a)*x+0.5*(b+a),0.5*(b-a)*w"
   ]
  },
  {
   "cell_type": "code",
   "execution_count": 7,
   "id": "02587f49-9e1a-4403-988a-0ba3ece74512",
   "metadata": {},
   "outputs": [],
   "source": [
    "x,w = cuadratura_gauss(100,0,10)"
   ]
  },
  {
   "cell_type": "code",
   "execution_count": 10,
   "id": "8d6cf557-fc1f-49b9-9f67-b8f4793d1a95",
   "metadata": {},
   "outputs": [
    {
     "data": {
      "text/plain": [
       "(100, 100)"
      ]
     },
     "execution_count": 10,
     "metadata": {},
     "output_type": "execute_result"
    }
   ],
   "source": [
    "(len(x),len(w))"
   ]
  },
  {
   "cell_type": "code",
   "execution_count": null,
   "id": "4c6dafaa-7e07-4713-8931-3aa7cd5e7d88",
   "metadata": {},
   "outputs": [],
   "source": []
  }
 ],
 "metadata": {
  "kernelspec": {
   "display_name": "Python 3 (ipykernel)",
   "language": "python",
   "name": "python3"
  },
  "language_info": {
   "codemirror_mode": {
    "name": "ipython",
    "version": 3
   },
   "file_extension": ".py",
   "mimetype": "text/x-python",
   "name": "python",
   "nbconvert_exporter": "python",
   "pygments_lexer": "ipython3",
   "version": "3.12.5"
  }
 },
 "nbformat": 4,
 "nbformat_minor": 5
}
